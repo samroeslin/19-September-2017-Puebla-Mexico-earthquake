{
 "cells": [
  {
   "cell_type": "markdown",
   "metadata": {},
   "source": [
    "# Response Spectrum (plot)"
   ]
  },
  {
   "cell_type": "markdown",
   "metadata": {},
   "source": [
    "GEMScienceTools\n",
    "https://github.com/GEMScienceTools/gmpe-smtk/blob/master/smtk/response_spectrum.py"
   ]
  },
  {
   "cell_type": "code",
   "execution_count": 2,
   "metadata": {},
   "outputs": [],
   "source": [
    "import numpy as np\n",
    "from math import sqrt\n",
    "from scipy.integrate import cumtrapz\n",
    "import matplotlib.pyplot as plt\n",
    "\n",
    "#from smtk.sm_utils import (_save_image,\n",
    "#                      get_time_vector,\n",
    "#                      convert_accel_units,\n",
    "#                      get_velocity_displacement)"
   ]
  },
  {
   "cell_type": "code",
   "execution_count": 3,
   "metadata": {},
   "outputs": [],
   "source": [
    "def plot_response_spectra(spectra, axis_type=\"loglog\", figure_size=(8, 6),\n",
    "        filename=None, filetype=\"png\", dpi=300):\n",
    "    \"\"\"\n",
    "    Creates a plot of the suite of response spectra (Acceleration,\n",
    "    Velocity, Displacement, Pseudo-Acceleration, Pseudo-Velocity) derived\n",
    "    from a particular ground motion record\n",
    "    \"\"\"\n",
    "    fig = plt.figure(figsize=figure_size)\n",
    "    fig.set_tight_layout(True)\n",
    "    ax = plt.subplot(2, 2, 1)\n",
    "    # Acceleration\n",
    "    PLOT_TYPE[axis_type](ax, spectra[\"Period\"], spectra[\"Acceleration\"])\n",
    "    PLOT_TYPE[axis_type](ax, spectra[\"Period\"], spectra[\"Pseudo-Acceleration\"])\n",
    "    ax.set_xlabel(\"Periods (s)\", fontsize=12)\n",
    "    ax.set_ylabel(\"Acceleration (cm/s/s)\", fontsize=12)\n",
    "    ax.set_xlim(np.min(spectra[\"Period\"]), np.max(spectra[\"Period\"]))\n",
    "    ax.grid()\n",
    "    ax.legend((\"Acceleration\", \"PSA\"), loc=0) \n",
    "    ax = plt.subplot(2, 2, 2)\n",
    "    # Velocity\n",
    "    PLOT_TYPE[axis_type](ax, spectra[\"Period\"], spectra[\"Velocity\"])\n",
    "    PLOT_TYPE[axis_type](ax, spectra[\"Period\"], spectra[\"Pseudo-Velocity\"])\n",
    "    ax.set_xlabel(\"Periods (s)\", fontsize=12)\n",
    "    ax.set_ylabel(\"Velocity (cm/s)\", fontsize=12)\n",
    "    ax.set_xlim(np.min(spectra[\"Period\"]), np.max(spectra[\"Period\"]))\n",
    "    ax.grid()\n",
    "    ax.legend((\"Velocity\", \"PSV\"), loc=0) \n",
    "    ax = plt.subplot(2, 2, 3)\n",
    "    # Displacement\n",
    "    PLOT_TYPE[axis_type](ax, spectra[\"Period\"], spectra[\"Displacement\"])\n",
    "    ax.set_xlabel(\"Periods (s)\", fontsize=12)\n",
    "    ax.set_ylabel(\"Displacement (cm)\", fontsize=12)\n",
    "    ax.set_xlim(np.min(spectra[\"Period\"]), np.max(spectra[\"Period\"]))\n",
    "    ax.grid()\n",
    "    _save_image(filename, filetype, dpi)\n",
    "    plt.show()"
   ]
  },
  {
   "cell_type": "code",
   "execution_count": null,
   "metadata": {},
   "outputs": [],
   "source": []
  }
 ],
 "metadata": {
  "kernelspec": {
   "display_name": "Python 3",
   "language": "python",
   "name": "python3"
  },
  "language_info": {
   "codemirror_mode": {
    "name": "ipython",
    "version": 3
   },
   "file_extension": ".py",
   "mimetype": "text/x-python",
   "name": "python",
   "nbconvert_exporter": "python",
   "pygments_lexer": "ipython3",
   "version": "3.7.3"
  }
 },
 "nbformat": 4,
 "nbformat_minor": 4
}
